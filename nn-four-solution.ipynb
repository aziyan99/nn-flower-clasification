{
 "cells": [
  {
   "cell_type": "code",
   "execution_count": 2,
   "metadata": {},
   "outputs": [],
   "source": [
    "%matplotlib inline"
   ]
  },
  {
   "cell_type": "code",
   "execution_count": 3,
   "metadata": {},
   "outputs": [],
   "source": [
    "from matplotlib import pyplot as plt\n",
    "import numpy as np"
   ]
  },
  {
   "cell_type": "code",
   "execution_count": 4,
   "metadata": {},
   "outputs": [],
   "source": [
    "# 0 = blue\n",
    "# 1 = red\n",
    "data = [[3,   1.5, 1],\n",
    "        [2,   1,   0],\n",
    "        [4,   1.5, 1],\n",
    "        [3,   1,   0],\n",
    "        [3.5, .5,  1],\n",
    "        [2,   .5,  0],\n",
    "        [5.5, 1,   1],\n",
    "        [1,   1,   0],\n",
    "        [2,   5,   1],\n",
    "        [3.4, .5,  1],\n",
    "        [3.3, .5,  0],\n",
    "        [0,    6,  0]]\n",
    "\n",
    "mystery_flower = [4.5, 1]"
   ]
  },
  {
   "cell_type": "code",
   "execution_count": 5,
   "metadata": {},
   "outputs": [],
   "source": [
    "# network\n",
    "\n",
    "#    0  flower type\n",
    "#  /  \\  w1, w2, b\n",
    "# o    o  length, width\n"
   ]
  },
  {
   "cell_type": "code",
   "execution_count": 6,
   "metadata": {},
   "outputs": [],
   "source": [
    "def sigmoid(x):\n",
    "    return 1/(1 + np.exp(-x))\n",
    "\n",
    "def sigmoid_p(x):\n",
    "    return sigmoid(x) * (1 - sigmoid(x))"
   ]
  },
  {
   "cell_type": "code",
   "execution_count": 15,
   "metadata": {},
   "outputs": [
    {
     "data": {
      "text/plain": [
       "[<matplotlib.lines.Line2D at 0x1187cff10>]"
      ]
     },
     "execution_count": 15,
     "metadata": {},
     "output_type": "execute_result"
    },
    {
     "data": {
      "image/png": "[encoded data removed]",
      "text/plain": [
       "<Figure size 432x288 with 1 Axes>"
      ]
     },
     "metadata": {
      "needs_background": "light"
     },
     "output_type": "display_data"
    }
   ],
   "source": [
    "T = np.linspace(-6, 6, 100)\n",
    "Y = sigmoid(T)\n",
    "plt.grid()\n",
    "plt.plot(T, sigmoid(T), c='r')\n",
    "plt.plot(T, sigmoid_p(T), c='b')"
   ]
  },
  {
   "cell_type": "code",
   "execution_count": 8,
   "metadata": {},
   "outputs": [
    {
     "data": {
      "image/png": "[encoded data removed]",
      "text/plain": [
       "<Figure size 432x288 with 1 Axes>"
      ]
     },
     "metadata": {
      "needs_background": "light"
     },
     "output_type": "display_data"
    }
   ],
   "source": [
    "# scatter data\n",
    "\n",
    "plt.axis([0, 6, 0, 6])\n",
    "plt.grid()\n",
    "for i in range(len(data)):\n",
    "    point = data[i]\n",
    "    color = \"r\"\n",
    "    if point[2] == 0:\n",
    "        color = \"b\"\n",
    "    plt.scatter(point[0], point[1], c=color)"
   ]
  },
  {
   "cell_type": "code",
   "execution_count": 9,
   "metadata": {},
   "outputs": [
    {
     "data": {
      "text/plain": [
       "[<matplotlib.lines.Line2D at 0x1186c6c90>]"
      ]
     },
     "execution_count": 9,
     "metadata": {},
     "output_type": "execute_result"
    },
    {
     "data": {
      "image/png": "[encoded data removed]",
      "text/plain": [
       "<Figure size 432x288 with 1 Axes>"
      ]
     },
     "metadata": {
      "needs_background": "light"
     },
     "output_type": "display_data"
    }
   ],
   "source": [
    "# training loop\n",
    "\n",
    "learning_rate = 0.2\n",
    "costs = []\n",
    "\n",
    "\n",
    "w1 = np.random.randn()\n",
    "w2 = np.random.randn()\n",
    "b = np.random.randn()\n",
    "\n",
    "\n",
    "for i in range(500000):\n",
    "    ri = np.random.randint(len(data))\n",
    "    point = data[ri]\n",
    "    \n",
    "    z = point[0] * w1 + point[1] * w2 + b\n",
    "    pred = sigmoid(z)\n",
    "    \n",
    "    target = point[2]\n",
    "    cost = np.square(pred - target)\n",
    "    \n",
    "    \n",
    "    dcost_pred = 2 * (pred - target)\n",
    "    dpred_dz = sigmoid_p(z)\n",
    "    dz_dw1 = point[0]\n",
    "    dz_dw2 = point[1]\n",
    "    dz_db = 1\n",
    "    \n",
    "    dcost_dz = dcost_pred * dpred_dz\n",
    "    \n",
    "    dcost_dw1 = dcost_dz * dz_dw1\n",
    "    dcost_dw2 = dcost_dz * dz_dw2\n",
    "    dcost_db = dcost_dz * dz_db\n",
    "    \n",
    "    w1 = w1 - learning_rate * dcost_dw1\n",
    "    w2 = w2 - learning_rate * dcost_dw2\n",
    "    b = b - learning_rate * dcost_db\n",
    "    \n",
    "    if i % 100 == 0:\n",
    "        cost_sum = 0\n",
    "        for j in range(len(data)):\n",
    "            point = data[ri]\n",
    "            \n",
    "            z = point[0] * w1 + point[1] * w2 + b\n",
    "            pred = sigmoid(z)\n",
    "            \n",
    "            target = point[2]\n",
    "            cost_sum += np.square(pred - target)\n",
    "            \n",
    "        costs.append(cost_sum/len(data))\n",
    "    \n",
    "plt.plot(costs)"
   ]
  },
  {
   "cell_type": "code",
   "execution_count": 10,
   "metadata": {},
   "outputs": [
    {
     "name": "stdout",
     "output_type": "stream",
     "text": [
      "[3, 1.5, 1]\n",
      "pred: 0.9482335044258707\n",
      "[2, 1, 0]\n",
      "pred: 6.296333606814714e-11\n",
      "[4, 1.5, 1]\n",
      "pred: 0.999999999970693\n",
      "[3, 1, 0]\n",
      "pred: 0.10497481191490173\n",
      "[3.5, 0.5, 1]\n",
      "pred: 0.9700711943714153\n",
      "[2, 0.5, 0]\n",
      "pred: 4.0315406916990193e-13\n",
      "[5.5, 1, 1]\n",
      "pred: 1.0\n",
      "[1, 1, 0]\n",
      "pred: 3.380069373222387e-20\n",
      "[2, 5, 1]\n",
      "pred: 0.999999955127653\n",
      "[3.4, 0.5, 1]\n",
      "pred: 0.7931493230009631\n",
      "[3.3, 0.5, 0]\n",
      "pred: 0.3120571613810498\n",
      "[0, 6, 0]\n",
      "pred: 1.5664994992952828e-07\n"
     ]
    }
   ],
   "source": [
    "# seeing model prediction\n",
    "\n",
    "for i in range(len(data)):\n",
    "    point = data[i]\n",
    "    print(point)\n",
    "    z = point[0] * w1 + point[1] * w2 + b\n",
    "    pred = sigmoid(z)\n",
    "    print(\"pred: {}\".format(pred))"
   ]
  },
  {
   "cell_type": "code",
   "execution_count": 11,
   "metadata": {},
   "outputs": [
    {
     "data": {
      "text/plain": [
       "0.9999999999998939"
      ]
     },
     "execution_count": 11,
     "metadata": {},
     "output_type": "execute_result"
    }
   ],
   "source": [
    "z = mystery_flower[0] * w1 + mystery_flower[1] * w2 + b\n",
    "pred = sigmoid(z)\n",
    "pred"
   ]
  },
  {
   "cell_type": "code",
   "execution_count": 12,
   "metadata": {},
   "outputs": [],
   "source": [
    "import os"
   ]
  },
  {
   "cell_type": "code",
   "execution_count": 13,
   "metadata": {},
   "outputs": [],
   "source": [
    "def which_flower(length, width):\n",
    "    z = length * w1 + width * w2 + b\n",
    "    pred = sigmoid(z)\n",
    "    if pred < .5:\n",
    "        os.system(\"say blue\")\n",
    "    else:\n",
    "        os.system(\"say red\")"
   ]
  },
  {
   "cell_type": "code",
   "execution_count": 14,
   "metadata": {},
   "outputs": [],
   "source": [
    "which_flower(1, 2)"
   ]
  },
  {
   "cell_type": "code",
   "execution_count": null,
   "metadata": {},
   "outputs": [],
   "source": []
  }
 ],
 "metadata": {
  "kernelspec": {
   "display_name": "Python 3",
   "language": "python",
   "name": "python3"
  },
  "language_info": {
   "codemirror_mode": {
    "name": "ipython",
    "version": 3
   },
   "file_extension": ".py",
   "mimetype": "text/x-python",
   "name": "python",
   "nbconvert_exporter": "python",
   "pygments_lexer": "ipython3",
   "version": "3.7.4"
  }
 },
 "nbformat": 4,
 "nbformat_minor": 2
}
